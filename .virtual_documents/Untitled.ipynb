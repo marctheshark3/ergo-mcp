import requests
import json
import time

API_URL = "http://localhost:9053/blockchain/box/byTokenId/123a3dae88b226ea2f2771ec70919fc252fba792aab4c415f23752225bbb49b1"
LIMIT = 5
OUTPUT_FILE = "addresses.json"

def fetch_boxes(offset, limit):
    params = {"offset": offset, "limit": limit}
    response = requests.get(API_URL, params=params)
    response.raise_for_status()
    return response.json()

def extract_addresses(items):
    return [item["address"] for item in items if "address" in item]

def main():
    address_to_height = {}
    offset = 0
    
    while True:
        data = fetch_boxes(offset, LIMIT)
        items = data.get("items", [])
        if not items:
            break

        for item in items:
            address = item.get("address")
            height = item.get("inclusionHeight")
            if address:
                # Store the latest (highest offset, i.e., most recent) blockheight for each address
                if address not in address_to_height or height > address_to_height[address]:
                    address_to_height[address] = height

        if len(items) < LIMIT:
            break

        offset += LIMIT
        time.sleep(0.1)

    # Output as a mapping of address to blockheight
    with open(OUTPUT_FILE, "w") as f:
        json.dump(address_to_height, f, indent=2)
    print(f"Saved {len(address_to_height)} unique addresses with blockheights to {OUTPUT_FILE}") 

if __name__ == "__main__":
    main()



