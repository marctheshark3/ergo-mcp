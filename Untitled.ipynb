{
 "cells": [
  {
   "cell_type": "code",
   "execution_count": 5,
   "id": "57c386d4-0816-48bc-bf80-14eb8e70637a",
   "metadata": {},
   "outputs": [
    {
     "name": "stdout",
     "output_type": "stream",
     "text": [
      "Saved 8 unique addresses with blockheights to addresses.json\n"
     ]
    }
   ],
   "source": [
    "import requests\n",
    "import json\n",
    "import time\n",
    "\n",
    "API_URL = \"http://localhost:9053/blockchain/box/byTokenId/123a3dae88b226ea2f2771ec70919fc252fba792aab4c415f23752225bbb49b1\"\n",
    "LIMIT = 5\n",
    "OUTPUT_FILE = \"addresses.json\"\n",
    "\n",
    "def fetch_boxes(offset, limit):\n",
    "    params = {\"offset\": offset, \"limit\": limit}\n",
    "    response = requests.get(API_URL, params=params)\n",
    "    response.raise_for_status()\n",
    "    return response.json()\n",
    "\n",
    "def extract_addresses(items):\n",
    "    return [item[\"address\"] for item in items if \"address\" in item]\n",
    "\n",
    "def main():\n",
    "    address_to_height = {}\n",
    "    offset = 0\n",
    "    \n",
    "    while True:\n",
    "        data = fetch_boxes(offset, LIMIT)\n",
    "        items = data.get(\"items\", [])\n",
    "        if not items:\n",
    "            break\n",
    "\n",
    "        for item in items:\n",
    "            address = item.get(\"address\")\n",
    "            height = item.get(\"inclusionHeight\")\n",
    "            if address:\n",
    "                # Store the latest (highest offset, i.e., most recent) blockheight for each address\n",
    "                if address not in address_to_height or height > address_to_height[address]:\n",
    "                    address_to_height[address] = height\n",
    "\n",
    "        if len(items) < LIMIT:\n",
    "            break\n",
    "\n",
    "        offset += LIMIT\n",
    "        time.sleep(0.1)\n",
    "\n",
    "    # Output as a mapping of address to blockheight\n",
    "    with open(OUTPUT_FILE, \"w\") as f:\n",
    "        json.dump(address_to_height, f, indent=2)\n",
    "    print(f\"Saved {len(address_to_height)} unique addresses with blockheights to {OUTPUT_FILE}\") \n",
    "\n",
    "if __name__ == \"__main__\":\n",
    "    main()"
   ]
  },
  {
   "cell_type": "code",
   "execution_count": null,
   "id": "a618975b-1cf0-4346-ac47-d79c7c0d00f6",
   "metadata": {},
   "outputs": [],
   "source": []
  }
 ],
 "metadata": {
  "kernelspec": {
   "display_name": "Python 3 (ipykernel)",
   "language": "python",
   "name": "python3"
  },
  "language_info": {
   "codemirror_mode": {
    "name": "ipython",
    "version": 3
   },
   "file_extension": ".py",
   "mimetype": "text/x-python",
   "name": "python",
   "nbconvert_exporter": "python",
   "pygments_lexer": "ipython3",
   "version": "3.10.12"
  }
 },
 "nbformat": 4,
 "nbformat_minor": 5
}
